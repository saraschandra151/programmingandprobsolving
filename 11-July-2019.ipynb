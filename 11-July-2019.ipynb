{
 "cells": [
  {
   "cell_type": "code",
   "execution_count": 1,
   "metadata": {},
   "outputs": [
    {
     "name": "stdout",
     "output_type": "stream",
     "text": [
      "File is created and data has written\n"
     ]
    }
   ],
   "source": [
    "def createFile(filename):\n",
    "    f = open(filename,'w')\n",
    "    for i in range(10):\n",
    "        f.write('This is %d Line\\n' % i)\n",
    "    print(\"File is created and data has written\")\n",
    "    return \n",
    "createFile('file1.txt')"
   ]
  },
  {
   "cell_type": "code",
   "execution_count": 2,
   "metadata": {},
   "outputs": [
    {
     "name": "stdout",
     "output_type": "stream",
     "text": [
      " Volume in drive C has no label.\n",
      " Volume Serial Number is C2F7-4F07\n",
      "\n",
      " Directory of C:\\Users\\Guest\\Downloads\n",
      "\n",
      "12-07-2019  09:45    <DIR>          .\n",
      "12-07-2019  09:45    <DIR>          ..\n",
      "12-07-2019  09:45    <DIR>          .ipynb_checkpoints\n",
      "09-07-2019  09:31            10,806 05-July-2019 (1).ipynb\n",
      "08-07-2019  16:00            10,806 05-July-2019.ipynb\n",
      "08-07-2019  16:00            11,691 06-July-2019.ipynb\n",
      "09-07-2019  09:20            12,121 1.1.rap\n",
      "12-07-2019  09:10            20,979 10-July-2019.ipynb\n",
      "11-07-2019  09:25            86,511 10-july-2019.pdf\n",
      "26-06-2019  09:55       572,204,080 Anaconda3-2019.03-Windows-x86.exe\n",
      "26-06-2019  09:48       693,800,272 Anaconda3-2019.03-Windows-x86_64.exe\n",
      "09-07-2019  09:23            12,121 Asg_2.1 (1).rap\n",
      "09-07-2019  09:23            12,121 Asg_2.1.rap\n",
      "09-07-2019  09:23            11,676 Asg_2.2.rap\n",
      "09-07-2019  09:23            11,045 Asg_2.3.rap\n",
      "09-07-2019  09:23            12,877 Asg_2.4 (1).rap\n",
      "09-07-2019  09:23            12,877 Asg_2.4.rap\n",
      "09-07-2019  09:23            10,613 Asg_2.5.rap\n",
      "09-07-2019  09:23             9,613 Asg_2.6.rap\n",
      "09-07-2019  09:23            10,651 Asg_2.7.rap\n",
      "09-07-2019  09:23            10,251 Asg_2.8.rap\n",
      "03-07-2019  17:24             8,912 assignment 5 ec.rap\n",
      "11-07-2019  09:45            86,511 assignment day 9.pdf\n",
      "12-07-2019  09:28            10,214 day8.ipynb\n",
      "12-07-2019  09:45               160 file1.txt\n",
      "02-07-2019  12:21            16,192 gitam.jpg\n",
      "09-07-2019  11:02             1,242 Untitled.ipynb\n",
      "12-07-2019  09:45                72 Untitled1.ipynb\n",
      "              25 File(s)  1,266,394,414 bytes\n",
      "               3 Dir(s)  60,102,049,792 bytes free\n"
     ]
    }
   ],
   "source": [
    "ls"
   ]
  },
  {
   "cell_type": "code",
   "execution_count": 3,
   "metadata": {},
   "outputs": [
    {
     "ename": "SyntaxError",
     "evalue": "invalid syntax (<ipython-input-3-0bccb725251b>, line 1)",
     "output_type": "error",
     "traceback": [
      "\u001b[1;36m  File \u001b[1;32m\"<ipython-input-3-0bccb725251b>\"\u001b[1;36m, line \u001b[1;32m1\u001b[0m\n\u001b[1;33m    cat file1.txt\u001b[0m\n\u001b[1;37m            ^\u001b[0m\n\u001b[1;31mSyntaxError\u001b[0m\u001b[1;31m:\u001b[0m invalid syntax\n"
     ]
    }
   ],
   "source": [
    "cat file1.txt"
   ]
  },
  {
   "cell_type": "code",
   "execution_count": 4,
   "metadata": {},
   "outputs": [
    {
     "name": "stdout",
     "output_type": "stream",
     "text": [
      "File is created and data has written\n"
     ]
    }
   ],
   "source": [
    "def createFile(filename):\n",
    "    f = open(filename,'w')\n",
    "    f.write('Testing...\\n')\n",
    "    print(\"File is created and data has written\")\n",
    "    return \n",
    "createFile('file1.txt')"
   ]
  },
  {
   "cell_type": "code",
   "execution_count": 5,
   "metadata": {},
   "outputs": [
    {
     "name": "stdout",
     "output_type": "stream",
     "text": [
      "File Created and Successfully data written\n"
     ]
    }
   ],
   "source": [
    "def appendData(filename):\n",
    "    f = open(filename,'a')\n",
    "    for i in range(10):\n",
    "        f.write(\"This is %d Line\\n\" % i )\n",
    "    print(\"File Created and Successfully data written\")\n",
    "    return\n",
    "appendData('file2.txt')"
   ]
  },
  {
   "cell_type": "code",
   "execution_count": 6,
   "metadata": {},
   "outputs": [
    {
     "name": "stdout",
     "output_type": "stream",
     "text": [
      "File Created and Successfully data written\n"
     ]
    }
   ],
   "source": [
    "def appendData(filename):\n",
    "    f = open(filename,'a')\n",
    "    f.write(\"New Line 1 \\n\")\n",
    "    f.write(\"New Line 2 \\n\")\n",
    "    print(\"File Created and Successfully data written\")\n",
    "    f.close()\n",
    "    return\n",
    "appendData('file2.txt')"
   ]
  },
  {
   "cell_type": "code",
   "execution_count": 7,
   "metadata": {},
   "outputs": [
    {
     "name": "stdout",
     "output_type": "stream",
     "text": [
      "This is 0 Line\n",
      "This is 1 Line\n",
      "This is 2 Line\n",
      "This is 3 Line\n",
      "This is 4 Line\n",
      "This is 5 Line\n",
      "This is 6 Line\n",
      "This is 7 Line\n",
      "This is 8 Line\n",
      "This is 9 Line\n",
      "New Line 1 \n",
      "New Line 2 \n",
      "\n"
     ]
    }
   ],
   "source": [
    "def readFileData(filename):\n",
    "    f = open(filename,'r')\n",
    "    if f.mode == 'r':\n",
    "        x = f.read()\n",
    "        print(x)\n",
    "    f.close()\n",
    "    return\n",
    "readFileData('file2.txt')"
   ]
  },
  {
   "cell_type": "code",
   "execution_count": 10,
   "metadata": {},
   "outputs": [
    {
     "name": "stdout",
     "output_type": "stream",
     "text": [
      "Enter the file name : file2.txt\n",
      "Enter the word : this\n"
     ]
    },
    {
     "data": {
      "text/plain": [
       "0"
      ]
     },
     "execution_count": 10,
     "metadata": {},
     "output_type": "execute_result"
    }
   ],
   "source": [
    "def wordCount(filename,word):\n",
    "    with open(filename,'r') as f:\n",
    "        if f.mode == 'r':\n",
    "            x = f.read()\n",
    "            li = x.split() # It's splits the string with whitespace\n",
    "    cnt = li.count(word)\n",
    "    return cnt\n",
    "filename = input('Enter the file name : ')\n",
    "word = input('Enter the word : ') # which word count you need\n",
    "wordCount(filename,word)"
   ]
  },
  {
   "cell_type": "code",
   "execution_count": 11,
   "metadata": {},
   "outputs": [
    {
     "name": "stdout",
     "output_type": "stream",
     "text": [
      "Enter the filename : file2.txt\n"
     ]
    },
    {
     "data": {
      "text/plain": [
       "174"
      ]
     },
     "execution_count": 11,
     "metadata": {},
     "output_type": "execute_result"
    }
   ],
   "source": [
    "def charCount(filename):\n",
    "    with open(filename,'r') as f:\n",
    "        if f.mode == 'r':\n",
    "            x = f.read()\n",
    "            li = list(x)\n",
    "    return len(li)\n",
    "filename = input('Enter the filename : ')\n",
    "charCount(filename)"
   ]
  },
  {
   "cell_type": "code",
   "execution_count": 12,
   "metadata": {},
   "outputs": [
    {
     "name": "stdout",
     "output_type": "stream",
     "text": [
      "['Python Progr', 'mming']\n"
     ]
    }
   ],
   "source": [
    "s1 = \"Python Programming\"\n",
    "print(s1.split('a'))"
   ]
  },
  {
   "cell_type": "code",
   "execution_count": 13,
   "metadata": {},
   "outputs": [
    {
     "name": "stdout",
     "output_type": "stream",
     "text": [
      "Enter the filename  : file2.txt\n"
     ]
    },
    {
     "data": {
      "text/plain": [
       "13"
      ]
     },
     "execution_count": 13,
     "metadata": {},
     "output_type": "execute_result"
    }
   ],
   "source": [
    "def countOfLines(filename):\n",
    "    with open(filename,'r') as f:\n",
    "        if f.mode == 'r':\n",
    "            x = f.read()\n",
    "            li = x.split(\"\\n\")\n",
    "    return len(li)\n",
    "filename = input('Enter the filename  : ')\n",
    "countOfLines(filename)"
   ]
  },
  {
   "cell_type": "code",
   "execution_count": 14,
   "metadata": {},
   "outputs": [
    {
     "name": "stdout",
     "output_type": "stream",
     "text": [
      "Enter the filename : file2.txt\n"
     ]
    },
    {
     "data": {
      "text/plain": [
       "'Upper Case = 24 , Lower Case = 90'"
      ]
     },
     "execution_count": 14,
     "metadata": {},
     "output_type": "execute_result"
    }
   ],
   "source": [
    "def caseCount(filename):\n",
    "    cntUpper = 0\n",
    "    cntLower = 0\n",
    "    with open(filename,'r') as f:\n",
    "        if f.mode == 'r':\n",
    "            x = f.read()\n",
    "            li = list(x)\n",
    "    for i in li:\n",
    "        if i.isupper():\n",
    "            cntUpper += 1 # cntUpper = cntUpper + 1\n",
    "        elif i.islower():\n",
    "            cntLower += 1 # cntLower = cntLower + 1\n",
    "    output = 'Upper Case = {0} , Lower Case = {1}'.format(cntUpper,cntLower)\n",
    "    return output\n",
    "filename = input('Enter the filename : ')\n",
    "caseCount(filename)"
   ]
  },
  {
   "cell_type": "code",
   "execution_count": 15,
   "metadata": {},
   "outputs": [
    {
     "name": "stdout",
     "output_type": "stream",
     "text": [
      " Volume in drive C has no label.\n",
      " Volume Serial Number is C2F7-4F07\n",
      "\n",
      " Directory of C:\\Users\\Guest\\Downloads\n",
      "\n",
      "12-07-2019  09:51    <DIR>          .\n",
      "12-07-2019  09:51    <DIR>          ..\n",
      "12-07-2019  09:45    <DIR>          .ipynb_checkpoints\n",
      "09-07-2019  09:31            10,806 05-July-2019 (1).ipynb\n",
      "08-07-2019  16:00            10,806 05-July-2019.ipynb\n",
      "08-07-2019  16:00            11,691 06-July-2019.ipynb\n",
      "09-07-2019  09:20            12,121 1.1.rap\n",
      "12-07-2019  09:10            20,979 10-July-2019.ipynb\n",
      "11-07-2019  09:25            86,511 10-july-2019.pdf\n",
      "26-06-2019  09:55       572,204,080 Anaconda3-2019.03-Windows-x86.exe\n",
      "26-06-2019  09:48       693,800,272 Anaconda3-2019.03-Windows-x86_64.exe\n",
      "09-07-2019  09:23            12,121 Asg_2.1 (1).rap\n",
      "09-07-2019  09:23            12,121 Asg_2.1.rap\n",
      "09-07-2019  09:23            11,676 Asg_2.2.rap\n",
      "09-07-2019  09:23            11,045 Asg_2.3.rap\n",
      "09-07-2019  09:23            12,877 Asg_2.4 (1).rap\n",
      "09-07-2019  09:23            12,877 Asg_2.4.rap\n",
      "09-07-2019  09:23            10,613 Asg_2.5.rap\n",
      "09-07-2019  09:23             9,613 Asg_2.6.rap\n",
      "09-07-2019  09:23            10,651 Asg_2.7.rap\n",
      "09-07-2019  09:23            10,251 Asg_2.8.rap\n",
      "03-07-2019  17:24             8,912 assignment 5 ec.rap\n",
      "11-07-2019  09:45            86,511 assignment day 9.pdf\n",
      "12-07-2019  09:28            10,214 day8.ipynb\n",
      "12-07-2019  09:46                12 file1.txt\n",
      "12-07-2019  09:46               186 file2.txt\n",
      "02-07-2019  12:21            16,192 gitam.jpg\n",
      "09-07-2019  11:02             1,242 Untitled.ipynb\n",
      "12-07-2019  09:51             9,901 Untitled1.ipynb\n",
      "              26 File(s)  1,266,404,281 bytes\n",
      "               3 Dir(s)  60,099,551,232 bytes free\n"
     ]
    }
   ],
   "source": [
    "ls"
   ]
  },
  {
   "cell_type": "code",
   "execution_count": 16,
   "metadata": {},
   "outputs": [
    {
     "name": "stdout",
     "output_type": "stream",
     "text": [
      "[WinError 3] The system cannot find the path specified: 'Desktop/PythonProg/Git'\n",
      "C:\\Users\\Guest\\Downloads\n"
     ]
    }
   ],
   "source": [
    "cd Desktop/PythonProg/Git"
   ]
  },
  {
   "cell_type": "code",
   "execution_count": 17,
   "metadata": {},
   "outputs": [
    {
     "name": "stdout",
     "output_type": "stream",
     "text": [
      " Volume in drive C has no label.\n",
      " Volume Serial Number is C2F7-4F07\n",
      "\n",
      " Directory of C:\\Users\\Guest\\Downloads\n",
      "\n",
      "12-07-2019  09:51    <DIR>          .\n",
      "12-07-2019  09:51    <DIR>          ..\n",
      "12-07-2019  09:45    <DIR>          .ipynb_checkpoints\n",
      "09-07-2019  09:31            10,806 05-July-2019 (1).ipynb\n",
      "08-07-2019  16:00            10,806 05-July-2019.ipynb\n",
      "08-07-2019  16:00            11,691 06-July-2019.ipynb\n",
      "09-07-2019  09:20            12,121 1.1.rap\n",
      "12-07-2019  09:10            20,979 10-July-2019.ipynb\n",
      "11-07-2019  09:25            86,511 10-july-2019.pdf\n",
      "26-06-2019  09:55       572,204,080 Anaconda3-2019.03-Windows-x86.exe\n",
      "26-06-2019  09:48       693,800,272 Anaconda3-2019.03-Windows-x86_64.exe\n",
      "09-07-2019  09:23            12,121 Asg_2.1 (1).rap\n",
      "09-07-2019  09:23            12,121 Asg_2.1.rap\n",
      "09-07-2019  09:23            11,676 Asg_2.2.rap\n",
      "09-07-2019  09:23            11,045 Asg_2.3.rap\n",
      "09-07-2019  09:23            12,877 Asg_2.4 (1).rap\n",
      "09-07-2019  09:23            12,877 Asg_2.4.rap\n",
      "09-07-2019  09:23            10,613 Asg_2.5.rap\n",
      "09-07-2019  09:23             9,613 Asg_2.6.rap\n",
      "09-07-2019  09:23            10,651 Asg_2.7.rap\n",
      "09-07-2019  09:23            10,251 Asg_2.8.rap\n",
      "03-07-2019  17:24             8,912 assignment 5 ec.rap\n",
      "11-07-2019  09:45            86,511 assignment day 9.pdf\n",
      "12-07-2019  09:28            10,214 day8.ipynb\n",
      "12-07-2019  09:46                12 file1.txt\n",
      "12-07-2019  09:46               186 file2.txt\n",
      "02-07-2019  12:21            16,192 gitam.jpg\n",
      "09-07-2019  11:02             1,242 Untitled.ipynb\n",
      "12-07-2019  09:51             9,901 Untitled1.ipynb\n",
      "              26 File(s)  1,266,404,281 bytes\n",
      "               3 Dir(s)  59,882,602,496 bytes free\n"
     ]
    }
   ],
   "source": [
    "ls\n"
   ]
  },
  {
   "cell_type": "code",
   "execution_count": 18,
   "metadata": {},
   "outputs": [
    {
     "name": "stdout",
     "output_type": "stream",
     "text": [
      "C:\\Users\\Guest\n"
     ]
    }
   ],
   "source": [
    "cd .."
   ]
  },
  {
   "cell_type": "code",
   "execution_count": 19,
   "metadata": {},
   "outputs": [
    {
     "ename": "FileNotFoundError",
     "evalue": "[WinError 3] The system cannot find the path specified: 'Git/'",
     "output_type": "error",
     "traceback": [
      "\u001b[1;31m---------------------------------------------------------------------------\u001b[0m",
      "\u001b[1;31mFileNotFoundError\u001b[0m                         Traceback (most recent call last)",
      "\u001b[1;32m<ipython-input-19-e120d76fe920>\u001b[0m in \u001b[0;36m<module>\u001b[1;34m\u001b[0m\n\u001b[0;32m      1\u001b[0m \u001b[1;32mimport\u001b[0m \u001b[0mos\u001b[0m\u001b[1;33m\u001b[0m\u001b[1;33m\u001b[0m\u001b[0m\n\u001b[1;32m----> 2\u001b[1;33m \u001b[0mos\u001b[0m\u001b[1;33m.\u001b[0m\u001b[0mlistdir\u001b[0m\u001b[1;33m(\u001b[0m\u001b[1;34m'Git/'\u001b[0m\u001b[1;33m)\u001b[0m \u001b[1;31m# listdir() -- ls\u001b[0m\u001b[1;33m\u001b[0m\u001b[1;33m\u001b[0m\u001b[0m\n\u001b[0m",
      "\u001b[1;31mFileNotFoundError\u001b[0m: [WinError 3] The system cannot find the path specified: 'Git/'"
     ]
    }
   ],
   "source": [
    "import os\n",
    "os.listdir('Git/') # listdir() -- ls"
   ]
  },
  {
   "cell_type": "code",
   "execution_count": 21,
   "metadata": {},
   "outputs": [
    {
     "ename": "FileExistsError",
     "evalue": "[WinError 183] Cannot create a file when that file already exists: 'SingleDirectory'",
     "output_type": "error",
     "traceback": [
      "\u001b[1;31m---------------------------------------------------------------------------\u001b[0m",
      "\u001b[1;31mFileExistsError\u001b[0m                           Traceback (most recent call last)",
      "\u001b[1;32m<ipython-input-21-74cba89addaa>\u001b[0m in \u001b[0;36m<module>\u001b[1;34m\u001b[0m\n\u001b[0;32m      1\u001b[0m \u001b[1;32mimport\u001b[0m \u001b[0mos\u001b[0m\u001b[1;33m\u001b[0m\u001b[1;33m\u001b[0m\u001b[0m\n\u001b[1;32m----> 2\u001b[1;33m \u001b[0mos\u001b[0m\u001b[1;33m.\u001b[0m\u001b[0mmkdir\u001b[0m\u001b[1;33m(\u001b[0m\u001b[1;34m'SingleDirectory'\u001b[0m\u001b[1;33m)\u001b[0m\u001b[1;33m\u001b[0m\u001b[1;33m\u001b[0m\u001b[0m\n\u001b[0m",
      "\u001b[1;31mFileExistsError\u001b[0m: [WinError 183] Cannot create a file when that file already exists: 'SingleDirectory'"
     ]
    }
   ],
   "source": [
    "import os\n",
    "os.mkdir('SingleDirectory')"
   ]
  },
  {
   "cell_type": "code",
   "execution_count": 22,
   "metadata": {},
   "outputs": [],
   "source": [
    "import pathlib\n",
    "p = pathlib.Path('TestFolder')\n",
    "p.mkdir()"
   ]
  },
  {
   "cell_type": "code",
   "execution_count": 23,
   "metadata": {},
   "outputs": [
    {
     "name": "stdout",
     "output_type": "stream",
     "text": [
      " Volume in drive C has no label.\n",
      " Volume Serial Number is C2F7-4F07\n",
      "\n",
      " Directory of C:\\Users\\Guest\n",
      "\n",
      "12-07-2019  09:54    <DIR>          .\n",
      "12-07-2019  09:54    <DIR>          ..\n",
      "29-06-2019  09:13    <DIR>          .anaconda\n",
      "05-07-2019  09:47            15,590 .bash_history\n",
      "12-07-2019  09:23    <DIR>          .conda\n",
      "12-07-2019  09:10                43 .condarc\n",
      "11-07-2019  11:06    <DIR>          .ipynb_checkpoints\n",
      "29-06-2019  09:20    <DIR>          .ipython\n",
      "29-06-2019  14:27    <DIR>          .jupyter\n",
      "29-06-2019  09:26    <DIR>          .matplotlib\n",
      "10-07-2019  13:02             8,986 10-july-2019.ipynb\n",
      "22-10-2016  10:07               140 2210313549\n",
      "22-10-2016  10:07               140 549\n",
      "26-06-2019  10:06    <DIR>          Anaconda3\n",
      "28-10-2016  15:47               358 aneesha\n",
      "28-10-2016  15:47                77 aneesha.hex\n",
      "28-10-2016  15:47                32 aneesha.lnp\n",
      "28-10-2016  15:47             1,803 aneesha.M51\n",
      "04-07-2017  10:27               153 aneesha.plg\n",
      "04-07-2017  10:30           132,203 aneesha.uvgui.Guest\n",
      "28-10-2016  15:48           132,197 aneesha.uvgui_Guest.bak\n",
      "04-07-2017  10:30             5,725 aneesha.uvopt\n",
      "28-10-2016  15:48            13,335 aneesha.uvproj\n",
      "28-10-2016  15:48             5,725 aneesha_uvopt.bak\n",
      "28-10-2016  15:11                 0 aneesha_uvproj.bak\n",
      "22-10-2016  10:09               140 arjun.asm\n",
      "22-10-2016  10:08             1,255 arjun.plg\n",
      "22-10-2016  10:12            68,006 arjun.uvgui.Guest\n",
      "22-10-2016  10:12             5,201 arjun.uvopt\n",
      "22-10-2016  10:12            13,323 arjun.uvproj\n",
      "22-10-2016  10:02                 0 arjun_uvproj.bak\n",
      "03-07-2018  15:02           245,605 bank atm.mdj\n",
      "20-06-2019  09:24    <DIR>          Contacts\n",
      "09-07-2019  10:04            10,538 Day 7.ipynb\n",
      "08-07-2019  10:05    <DIR>          Desktop\n",
      "11-07-2019  13:01    <DIR>          Documents\n",
      "12-07-2019  09:53    <DIR>          Downloads\n",
      "22-10-2016  10:17             1,104 eslab.plg\n",
      "22-10-2016  10:18           132,350 eslab.uvgui.Guest\n",
      "22-10-2016  10:18             5,205 eslab.uvopt\n",
      "22-10-2016  10:18            13,327 eslab.uvproj\n",
      "22-10-2016  10:13                 0 eslab_uvproj.bak\n",
      "22-10-2016  10:12                 0 exam\n",
      "22-10-2016  10:12               149 exam.plg\n",
      "22-10-2016  10:13            67,058 exam.uvgui.Guest\n",
      "22-10-2016  10:13             5,209 exam.uvopt\n",
      "22-10-2016  10:13            13,330 exam.uvproj\n",
      "20-06-2019  09:24    <DIR>          Favorites\n",
      "11-07-2019  10:08               154 file2.txt\n",
      "20-06-2019  09:24    <DIR>          Links\n",
      "29-08-2016  13:49               214 mn\n",
      "29-08-2016  13:46                71 mn.asm\n",
      "29-08-2016  13:49                42 mn.hex\n",
      "29-08-2016  13:49                36 mn.lnp\n",
      "29-08-2016  13:49               885 mn.LST\n",
      "29-08-2016  13:49             1,402 mn.M51\n",
      "29-08-2016  13:49               193 mn.OBJ\n",
      "29-08-2016  13:49               462 mn.plg\n",
      "29-08-2016  15:47           132,173 mn.uvgui.Guest\n",
      "29-08-2016  15:47             5,886 mn.uvopt\n",
      "29-08-2016  15:47            13,345 mn.uvproj\n",
      "29-08-2016  13:39                 0 mn_uvproj.bak\n",
      "20-06-2019  09:24    <DIR>          Music\n",
      "20-06-2019  09:24    <DIR>          Pictures\n",
      "20-06-2019  09:24    <DIR>          Saved Games\n",
      "20-06-2019  09:24    <DIR>          Searches\n",
      "12-07-2019  09:53    <DIR>          SingleDirectory\n",
      "28-10-2016  15:24               164 smallest.asm\n",
      "28-10-2016  15:24             1,322 smallest.LST\n",
      "28-10-2016  15:24               326 smallest.OBJ\n",
      "15-06-2012  10:41             6,376 STARTUP.A51\n",
      "12-07-2019  09:54    <DIR>          TestFolder\n",
      "11-07-2019  12:30             8,522 Untitled.ipynb\n",
      "08-07-2019  16:05                 0 untitled.txt\n",
      "11-07-2019  11:08               826 Untitled1.ipynb\n",
      "11-07-2019  09:50             2,758 Untitled6.ipynb\n",
      "28-10-2016  15:11               151 vamsi.plg\n",
      "28-10-2016  15:11           132,341 vamsi.uvgui.Guest\n",
      "22-10-2016  10:02           132,347 vamsi.uvgui_Guest.bak\n",
      "22-10-2016  09:58             5,717 vamsi.uvopt\n",
      "22-10-2016  09:55            13,352 vamsi.uvproj\n",
      "22-10-2016  09:55             5,717 vamsi_uvopt.bak\n",
      "23-08-2016  09:37            13,149 vamsi_uvproj.bak\n",
      "20-06-2019  09:24    <DIR>          Videos\n",
      "              62 File(s)      1,376,238 bytes\n",
      "              22 Dir(s)  59,884,830,720 bytes free\n"
     ]
    }
   ],
   "source": [
    "ls\n"
   ]
  },
  {
   "cell_type": "code",
   "execution_count": 24,
   "metadata": {},
   "outputs": [],
   "source": [
    "import os\n",
    "os.makedirs('2019/July/11')"
   ]
  },
  {
   "cell_type": "code",
   "execution_count": 25,
   "metadata": {},
   "outputs": [
    {
     "name": "stdout",
     "output_type": "stream",
     "text": [
      " Volume in drive C has no label.\n",
      " Volume Serial Number is C2F7-4F07\n",
      "\n",
      " Directory of C:\\Users\\Guest\n",
      "\n",
      "12-07-2019  09:54    <DIR>          .\n",
      "12-07-2019  09:54    <DIR>          ..\n",
      "29-06-2019  09:13    <DIR>          .anaconda\n",
      "05-07-2019  09:47            15,590 .bash_history\n",
      "12-07-2019  09:23    <DIR>          .conda\n",
      "12-07-2019  09:10                43 .condarc\n",
      "11-07-2019  11:06    <DIR>          .ipynb_checkpoints\n",
      "29-06-2019  09:20    <DIR>          .ipython\n",
      "29-06-2019  14:27    <DIR>          .jupyter\n",
      "29-06-2019  09:26    <DIR>          .matplotlib\n",
      "10-07-2019  13:02             8,986 10-july-2019.ipynb\n",
      "12-07-2019  09:54    <DIR>          2019\n",
      "22-10-2016  10:07               140 2210313549\n",
      "22-10-2016  10:07               140 549\n",
      "26-06-2019  10:06    <DIR>          Anaconda3\n",
      "28-10-2016  15:47               358 aneesha\n",
      "28-10-2016  15:47                77 aneesha.hex\n",
      "28-10-2016  15:47                32 aneesha.lnp\n",
      "28-10-2016  15:47             1,803 aneesha.M51\n",
      "04-07-2017  10:27               153 aneesha.plg\n",
      "04-07-2017  10:30           132,203 aneesha.uvgui.Guest\n",
      "28-10-2016  15:48           132,197 aneesha.uvgui_Guest.bak\n",
      "04-07-2017  10:30             5,725 aneesha.uvopt\n",
      "28-10-2016  15:48            13,335 aneesha.uvproj\n",
      "28-10-2016  15:48             5,725 aneesha_uvopt.bak\n",
      "28-10-2016  15:11                 0 aneesha_uvproj.bak\n",
      "22-10-2016  10:09               140 arjun.asm\n",
      "22-10-2016  10:08             1,255 arjun.plg\n",
      "22-10-2016  10:12            68,006 arjun.uvgui.Guest\n",
      "22-10-2016  10:12             5,201 arjun.uvopt\n",
      "22-10-2016  10:12            13,323 arjun.uvproj\n",
      "22-10-2016  10:02                 0 arjun_uvproj.bak\n",
      "03-07-2018  15:02           245,605 bank atm.mdj\n",
      "20-06-2019  09:24    <DIR>          Contacts\n",
      "09-07-2019  10:04            10,538 Day 7.ipynb\n",
      "08-07-2019  10:05    <DIR>          Desktop\n",
      "11-07-2019  13:01    <DIR>          Documents\n",
      "12-07-2019  09:53    <DIR>          Downloads\n",
      "22-10-2016  10:17             1,104 eslab.plg\n",
      "22-10-2016  10:18           132,350 eslab.uvgui.Guest\n",
      "22-10-2016  10:18             5,205 eslab.uvopt\n",
      "22-10-2016  10:18            13,327 eslab.uvproj\n",
      "22-10-2016  10:13                 0 eslab_uvproj.bak\n",
      "22-10-2016  10:12                 0 exam\n",
      "22-10-2016  10:12               149 exam.plg\n",
      "22-10-2016  10:13            67,058 exam.uvgui.Guest\n",
      "22-10-2016  10:13             5,209 exam.uvopt\n",
      "22-10-2016  10:13            13,330 exam.uvproj\n",
      "20-06-2019  09:24    <DIR>          Favorites\n",
      "11-07-2019  10:08               154 file2.txt\n",
      "20-06-2019  09:24    <DIR>          Links\n",
      "29-08-2016  13:49               214 mn\n",
      "29-08-2016  13:46                71 mn.asm\n",
      "29-08-2016  13:49                42 mn.hex\n",
      "29-08-2016  13:49                36 mn.lnp\n",
      "29-08-2016  13:49               885 mn.LST\n",
      "29-08-2016  13:49             1,402 mn.M51\n",
      "29-08-2016  13:49               193 mn.OBJ\n",
      "29-08-2016  13:49               462 mn.plg\n",
      "29-08-2016  15:47           132,173 mn.uvgui.Guest\n",
      "29-08-2016  15:47             5,886 mn.uvopt\n",
      "29-08-2016  15:47            13,345 mn.uvproj\n",
      "29-08-2016  13:39                 0 mn_uvproj.bak\n",
      "20-06-2019  09:24    <DIR>          Music\n",
      "20-06-2019  09:24    <DIR>          Pictures\n",
      "20-06-2019  09:24    <DIR>          Saved Games\n",
      "20-06-2019  09:24    <DIR>          Searches\n",
      "12-07-2019  09:53    <DIR>          SingleDirectory\n",
      "28-10-2016  15:24               164 smallest.asm\n",
      "28-10-2016  15:24             1,322 smallest.LST\n",
      "28-10-2016  15:24               326 smallest.OBJ\n",
      "15-06-2012  10:41             6,376 STARTUP.A51\n",
      "12-07-2019  09:54    <DIR>          TestFolder\n",
      "11-07-2019  12:30             8,522 Untitled.ipynb\n",
      "08-07-2019  16:05                 0 untitled.txt\n",
      "11-07-2019  11:08               826 Untitled1.ipynb\n",
      "11-07-2019  09:50             2,758 Untitled6.ipynb\n",
      "28-10-2016  15:11               151 vamsi.plg\n",
      "28-10-2016  15:11           132,341 vamsi.uvgui.Guest\n",
      "22-10-2016  10:02           132,347 vamsi.uvgui_Guest.bak\n",
      "22-10-2016  09:58             5,717 vamsi.uvopt\n",
      "22-10-2016  09:55            13,352 vamsi.uvproj\n",
      "22-10-2016  09:55             5,717 vamsi_uvopt.bak\n",
      "23-08-2016  09:37            13,149 vamsi_uvproj.bak\n",
      "20-06-2019  09:24    <DIR>          Videos\n",
      "              62 File(s)      1,376,238 bytes\n",
      "              23 Dir(s)  59,884,834,816 bytes free\n"
     ]
    }
   ],
   "source": [
    "ls"
   ]
  },
  {
   "cell_type": "code",
   "execution_count": 26,
   "metadata": {},
   "outputs": [],
   "source": [
    "import shutil # Delete the tree of structure of folder\n",
    "data_dir = '2019'\n",
    "shutil.rmtree(data_dir)"
   ]
  },
  {
   "cell_type": "code",
   "execution_count": null,
   "metadata": {},
   "outputs": [],
   "source": []
  }
 ],
 "metadata": {
  "kernelspec": {
   "display_name": "Python 3",
   "language": "python",
   "name": "python3"
  },
  "language_info": {
   "codemirror_mode": {
    "name": "ipython",
    "version": 3
   },
   "file_extension": ".py",
   "mimetype": "text/x-python",
   "name": "python",
   "nbconvert_exporter": "python",
   "pygments_lexer": "ipython3",
   "version": "3.7.3"
  }
 },
 "nbformat": 4,
 "nbformat_minor": 2
}
